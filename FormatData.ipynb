{
 "cells": [
  {
   "cell_type": "code",
   "execution_count": null,
   "metadata": {},
   "outputs": [],
   "source": [
    "import pandas as pd\n",
    "import copy \n",
    "import time"
   ]
  },
  {
   "cell_type": "code",
   "execution_count": null,
   "metadata": {},
   "outputs": [],
   "source": [
    "def ReadData(filepath):\n",
    "    df = pd.read_csv(filepath)\n",
    "    df[['response_tweet_id', 'in_response_to_tweet_id']] = df[['response_tweet_id','in_response_to_tweet_id']].fillna(value=0)\n",
    "    print(df.shape)\n",
    "    print(df.dtypes)\n",
    "    df.head()\n",
    "    return df"
   ]
  },
  {
   "cell_type": "code",
   "execution_count": null,
   "metadata": {},
   "outputs": [],
   "source": [
    "#making apple data\n",
    "def MakeAndReturnCompanyData(df,CompanyName):\n",
    "    df_company = df.loc[df['author_id'] == CompanyName]\n",
    "    print(df_company.shape)\n",
    "    print(\"not \",CompanyName ,\" data is\",round(df_company.shape[0]/df.shape[0]*100,4) , \"% of the total data\")\n",
    "    df_company.head()\n",
    "    return df_company"
   ]
  },
  {
   "cell_type": "code",
   "execution_count": null,
   "metadata": {},
   "outputs": [],
   "source": [
    "#making non apple data\n",
    "def MakeAndReturnNonCompanyData(df,CompanyName):\n",
    "    df_company = df.loc[df['author_id'] != CompanyName]\n",
    "    print(df_company.shape)\n",
    "    print(\"not \",CompanyName ,\" data is\",round(df_company.shape[0]/df.shape[0]*100,4) , \"% of the total data\")\n",
    "    df_company.head()\n",
    "    return df_company"
   ]
  },
  {
   "cell_type": "markdown",
   "metadata": {},
   "source": [
    "### Functions To Make Threads of Apple Support"
   ]
  },
  {
   "cell_type": "code",
   "execution_count": null,
   "metadata": {},
   "outputs": [],
   "source": [
    "def getStringListFromCommaSeperatedString(my_string):\n",
    "\n",
    "    if \",\" in str(my_string):\n",
    "        return [x.strip() for x in my_string.split(',')]\n",
    "    else:\n",
    "        return [my_string]"
   ]
  },
  {
   "cell_type": "code",
   "execution_count": null,
   "metadata": {},
   "outputs": [],
   "source": [
    "def IterateResponseTweetIDs(response_tweet_ids,df,thread_id):\n",
    "    for response_tweet_id in response_tweet_ids:\n",
    "        df = processThread(df,response_tweet_id,thread_id)\n",
    "    return df"
   ]
  },
  {
   "cell_type": "code",
   "execution_count": null,
   "metadata": {},
   "outputs": [],
   "source": [
    "#returns rows which has the value:columnValue in column : columnName\n",
    "def GetSpecificColumnValueRows(df,columnName,columnValue):\n",
    "    return df.loc[df[columnName] == columnValue ]"
   ]
  },
  {
   "cell_type": "code",
   "execution_count": null,
   "metadata": {},
   "outputs": [],
   "source": [
    "##start of the thread pe khara hun, aage iterate karna hai ab.\n",
    "\n",
    "\n",
    "def processThread(df,tweet_id,thread_id):\n",
    "    print(\"tweet_id =\",tweet_id,end=\"  -->\")\n",
    "    if ((df.tweet_id==int(tweet_id)).any()):\n",
    "\n",
    "        df.loc[df['tweet_id'] == int(tweet_id), 'checked'] = 0\n",
    "        df.loc[df['tweet_id'] == int(tweet_id), 'thread_id'] = thread_id\n",
    "        \n",
    "        response_tweet_ids = getStringListFromCommaSeperatedString(GetSpecificColumnValueRows(df,\"tweet_id\",int(tweet_id))[\"response_tweet_id\"].values[0])\n",
    "\n",
    "        if( 0 not in response_tweet_ids):\n",
    "            print(\"child responses : \",response_tweet_ids ,end=\"  -->\")\n",
    "            IterateResponseTweetIDs(response_tweet_ids,df,thread_id)\n",
    "        else:                \n",
    "            print(\"Thread end\",end=\"  -->\")\n",
    "    else:\n",
    "        print(\"not found\",end=\"  -->\")\n",
    "    return df\n"
   ]
  },
  {
   "cell_type": "code",
   "execution_count": null,
   "metadata": {},
   "outputs": [],
   "source": [
    "def isCompanyOneOfTheResponseTweets(response_tweet_ids,df_company):\n",
    "    for response_tweet_id in response_tweet_ids:\n",
    "        if int(response_tweet_id) in df_company[\"tweet_id\"].tolist():\n",
    "            return True\n",
    "\n",
    "    return False"
   ]
  },
  {
   "cell_type": "code",
   "execution_count": null,
   "metadata": {
    "scrolled": true
   },
   "outputs": [],
   "source": [
    "def ProcessDataFrame(df,df_company,startingThreadNumber,CompanyName):\n",
    "    thread_id = startingThreadNumber\n",
    "    df[\"checked\"]=1   #0 for true i.e its checked and 1 for false i.e its not checked\n",
    "    df[\"thread_id\"]=0\n",
    "    start = time.clock()\n",
    "    end2=time.clock()\n",
    "    for row in df.itertuples():\n",
    "        index = row.Index+2\n",
    "\n",
    "        response_tweet_ids = getStringListFromCommaSeperatedString(str(row.response_tweet_id))\n",
    "\n",
    "        #index>329093\n",
    "\n",
    "        if row.checked==1 and row.thread_id==0 and row.author_id != CompanyName and row.inbound == True and isCompanyOneOfTheResponseTweets(response_tweet_ids,df_company)==True and row.in_response_to_tweet_id==0:        \n",
    "            tweet_id = row.tweet_id\n",
    "\n",
    "            print(\" Thread ID = ,\", thread_id,\"\\n-------------------------\")\n",
    "            df= processThread(df,tweet_id,thread_id)\n",
    "            thread_id+=1 \n",
    "            print(\"\")     \n",
    "\n",
    "        if(index%50000==0):\n",
    "            print(\"\\n****************************************************************************************\")\n",
    "            print(\"Time taken to process 50k threads: \",time.clock()-end2 ,\" seconds\")\n",
    "            print(\"total tweets processed = \",index,end=\" ,\")\n",
    "            print(\"****************************************************************************************\\n\")\n",
    "            end2=time.clock()\n",
    "\n",
    "    end = time.clock()\n",
    "    print(\"Total time taken for complete processing : \",end-start,\" seconds\")\n",
    "    return df\n",
    "    "
   ]
  },
  {
   "cell_type": "markdown",
   "metadata": {},
   "source": [
    "###  Functions to Make data in the format for support of chatbot training"
   ]
  },
  {
   "cell_type": "code",
   "execution_count": null,
   "metadata": {},
   "outputs": [],
   "source": [
    "def MakeDataForChatbotTraining(df,author_id):\n",
    "    print(\"\\n Start Processing data.\")\n",
    "\n",
    "    first_tweet = df[df.in_response_to_tweet_id==0 & df.inbound ]\n",
    "    tweets_and_replies = pd.merge(first_tweet, df, left_on='tweet_id', \n",
    "                                      right_on='in_response_to_tweet_id')\n",
    "    tweets_and_replies = tweets_and_replies[tweets_and_replies.inbound_y ^ True]\n",
    "\n",
    "    df_to_company_support = tweets_and_replies[tweets_and_replies.author_id_y==author_id]\n",
    "    \n",
    "    print(df_to_company_support.shape)\n",
    "    print(\"\\n End Processing data.\")\n",
    "\n",
    "    return df_to_company_support"
   ]
  },
  {
   "cell_type": "code",
   "execution_count": null,
   "metadata": {},
   "outputs": [],
   "source": [
    "#for writing to file\n",
    "def WriteToFile(df_to_company_support,filepath):\n",
    "    f= open(filepath,\"w\", encoding='utf-8')\n",
    "    print(\"\\n Start Writing.\")\n",
    "\n",
    "    for row in df_to_company_support.itertuples():\n",
    "        index = row.Index\n",
    "        text_x = (row.text_x).encode('ascii', 'ignore')\n",
    "        text_y = (row.text_y).encode('ascii', 'ignore')\n",
    "\n",
    "        text_x = text_x.replace(\"\\n\".encode('ascii', 'ignore'),\"\".encode('ascii', 'ignore'))\n",
    "        text_x = text_x.replace(\"\\r\".encode('ascii', 'ignore'),\"\".encode('ascii', 'ignore'))\n",
    "        text_y = text_y.replace(\"\\n\".encode('ascii', 'ignore'),\"\".encode('ascii', 'ignore'))\n",
    "        text_y = text_y.replace(\"\\r\".encode('ascii', 'ignore'),\"\".encode('ascii', 'ignore'))\n",
    "\n",
    "        value = text_x + \"\\t\".encode('ascii', 'ignore') + text_y + \"\\n\".encode('ascii', 'ignore')\n",
    "\n",
    "        value = (value).decode(\"utf-8\")\n",
    "        f.write(value)\n",
    "    print(\"\\n Done Writing.\")\n",
    "    f.close()\n",
    "\n"
   ]
  },
  {
   "cell_type": "code",
   "execution_count": null,
   "metadata": {},
   "outputs": [],
   "source": [
    "\n",
    "#for reading from file\n",
    "def ReadBinaryFile(filepath,LinesToPrint):\n",
    "    fread = open(filepath,\"rb\") \n",
    "    print(\"\\n Start Rading. \\n\")\n",
    "\n",
    "    lines = fread.readlines()\n",
    "    numberOfTweetAndResponsesToPrint = LinesToPrint\n",
    "    for index,line in enumerate(lines):\n",
    "        print(line)\n",
    "        if (index+1) ==numberOfTweetAndResponsesToPrint:\n",
    "            break\n",
    "    print(\"\\n Done Reading\")\n",
    "    fread.close()"
   ]
  },
  {
   "cell_type": "markdown",
   "metadata": {},
   "source": [
    "## Calling Functions to make company Specific threads"
   ]
  },
  {
   "cell_type": "code",
   "execution_count": null,
   "metadata": {},
   "outputs": [],
   "source": [
    "# Run this cell if you want to make complete threads of apple support\n",
    "\n",
    "print(\"Reading Data\")\n",
    "df = ReadData(\"./twcs/twcs.csv\")\n",
    "\n",
    "print(\"Making Company data\")\n",
    "df_company = MakeAndReturnCompanyData(df,\"AppleSupport\")\n",
    "\n",
    "print(\"Making Non Company data\")\n",
    "df_notCompany = MakeAndReturnNonCompanyData(df,\"AppleSupport\")\n",
    "\n",
    "print(\"Processing Data\")\n",
    "df = ProcessDataFrame(df,df_company,1,\"AppleSupport\")"
   ]
  },
  {
   "cell_type": "markdown",
   "metadata": {},
   "source": [
    "## Calling Functions to Format Data For Chatbot Training"
   ]
  },
  {
   "cell_type": "code",
   "execution_count": null,
   "metadata": {},
   "outputs": [],
   "source": [
    "df_to_company_support = MakeDataForChatbotTraining(df,\"AppleSupport\")\n",
    "\n",
    "WriteToFile(df_to_company_support,\"./Chatbot Training Data/formatted_AppleSupport_tweets.txt\")\n",
    "\n",
    "ReadBinaryFile(\"./Final_Final_Data/formatted_AppleSupport_tweets.txt\",1)\n"
   ]
  },
  {
   "cell_type": "code",
   "execution_count": null,
   "metadata": {},
   "outputs": [],
   "source": []
  }
 ],
 "metadata": {
  "kernelspec": {
   "display_name": "Python 3",
   "language": "python",
   "name": "python3"
  },
  "language_info": {
   "codemirror_mode": {
    "name": "ipython",
    "version": 3
   },
   "file_extension": ".py",
   "mimetype": "text/x-python",
   "name": "python",
   "nbconvert_exporter": "python",
   "pygments_lexer": "ipython3",
   "version": "3.7.3"
  }
 },
 "nbformat": 4,
 "nbformat_minor": 2
}
